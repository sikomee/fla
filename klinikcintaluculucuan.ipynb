{
  "nbformat": 4,
  "nbformat_minor": 0,
  "metadata": {
    "colab": {
      "provenance": [],
      "authorship_tag": "ABX9TyP7iprrCZ2dyROSMiWh4fMd",
      "include_colab_link": true
    },
    "kernelspec": {
      "name": "python3",
      "display_name": "Python 3"
    },
    "language_info": {
      "name": "python"
    }
  },
  "cells": [
    {
      "cell_type": "markdown",
      "metadata": {
        "id": "view-in-github",
        "colab_type": "text"
      },
      "source": [
        "<a href=\"https://colab.research.google.com/github/sikomee/fla/blob/main/klinikcintaluculucuan.ipynb\" target=\"_parent\"><img src=\"https://colab.research.google.com/assets/colab-badge.svg\" alt=\"Open In Colab\"/></a>"
      ]
    },
    {
      "cell_type": "code",
      "execution_count": 1,
      "metadata": {
        "colab": {
          "base_uri": "https://localhost:8080/"
        },
        "id": "qEJdYjh2lLjj",
        "outputId": "6bee0804-b6d6-49dd-a4c7-f3a31f4ad5c2"
      },
      "outputs": [
        {
          "output_type": "stream",
          "name": "stdout",
          "text": [
            "\u001b[95m💕 Selamat datang di Klinik Cinta, tempat diagnosa hati yang lucu-lucu! 💕\u001b[0m\n",
            "\u001b[95m\n",
            "💡 Dibuat dengan cinta oleh sayang 💡\u001b[0m\n",
            "\u001b[95m\n",
            "❤️--- Klinik Cinta Lucu ---❤️\u001b[0m\n",
            "\u001b[95m1. Konsultasi Penyakit Cinta\u001b[0m\n",
            "\u001b[95m2. Tentang Aplikasi\u001b[0m\n",
            "\u001b[95m3. Keluar\u001b[0m\n",
            "\u001b[95m\n",
            "💡 Dibuat dengan cinta oleh sayang 💡\u001b[0m\n",
            "\u001b[95mPilih menu (1/2/3): \u001b[0m1\n",
            "\u001b[95m\n",
            "Jawab dengan 'y' untuk Ya atau 'n' untuk Tidak.\n",
            "\u001b[0m\n",
            "\u001b[95mApakah Anda sering tiba-tiba gelisah kalau dia online tapi nggak chat Anda?\u001b[0m (y/n): y\n",
            "\u001b[95mApakah Anda rela nunggu 'seen' di WhatsApp selama 3 jam, tapi pura-pura nggak peduli?\u001b[0m (y/n): y\n",
            "\u001b[95mApakah Anda senyum-senyum sendiri saat melihat chat dari dia, walau isinya cuma 'OK'?\u001b[0m (y/n): y\n",
            "\u001b[95mApakah Anda sering nge-replay story-nya walau nggak penting, misalnya 'Wah, langitnya bagus!'?\u001b[0m (y/n): y\n",
            "\u001b[95mApakah Anda pernah ketiduran sambil nunggu chat 'selamat malam' dari dia?\u001b[0m (y/n): y\n",
            "\u001b[95m\n",
            "💌--- Hasil Diagnosa Cinta ---💌\u001b[0m\n",
            "\u001b[95m💘 *Cinta Stadium Akut*! Anda sudah di level Romeo-Juliet, hati-hati overdosis cinta. Tips: Jangan lupa makan dan jangan lupa chat dia duluan!\u001b[0m\n",
            "\u001b[95m\n",
            "Catatan: Diagnosa ini hanya untuk lucu-lucuan, ya! Jangan terlalu serius, kecuali cinta Anda memang serius. 😉\u001b[0m\n",
            "\u001b[95m\n",
            "💡 Dibuat dengan cinta oleh sayang 💡\u001b[0m\n",
            "\u001b[95m\n",
            "❤️--- Klinik Cinta Lucu ---❤️\u001b[0m\n",
            "\u001b[95m1. Konsultasi Penyakit Cinta\u001b[0m\n",
            "\u001b[95m2. Tentang Aplikasi\u001b[0m\n",
            "\u001b[95m3. Keluar\u001b[0m\n",
            "\u001b[95m\n",
            "💡 Dibuat dengan cinta oleh sayang 💡\u001b[0m\n",
            "\u001b[95mPilih menu (1/2/3): \u001b[0m3\n",
            "\u001b[95mTerima kasih telah berkonsultasi di Klinik Cinta. Ingat, cinta itu lucu kalau dinikmati, tapi pusing kalau dipikirin! 💕\u001b[0m\n",
            "\u001b[95m\n",
            "💡 Dibuat dengan cinta oleh sayang 💡\u001b[0m\n"
          ]
        }
      ],
      "source": [
        "import random\n",
        "\n",
        "# Kode warna untuk tema pink\n",
        "def warna_pink(teks):\n",
        "    return f\"\\033[95m{teks}\\033[0m\"\n",
        "\n",
        "# Watermark nama pembuat\n",
        "WATERMARK = warna_pink(\"\\n💡 Dibuat dengan cinta oleh sayang qmza 💡\")\n",
        "\n",
        "def tampilkan_menu():\n",
        "    print(warna_pink(\"\\n❤️--- Klinik Cinta Lucu ---❤️\"))\n",
        "    print(warna_pink(\"1. Konsultasi Penyakit Cinta\"))\n",
        "    print(warna_pink(\"2. Tentang Aplikasi\"))\n",
        "    print(warna_pink(\"3. Keluar\"))\n",
        "    print(WATERMARK)\n",
        "\n",
        "def konsultasi_cinta():\n",
        "    print(warna_pink(\"\\nJawab dengan 'y' untuk Ya atau 'n' untuk Tidak.\\n\"))\n",
        "\n",
        "    pertanyaan = [\n",
        "        \"Apakah Anda sering tiba-tiba teringat seseorang saat makan?\",\n",
        "        \"Apakah Anda senyum-senyum sendiri saat melihat chat dari dia, walau isinya cuma 'OK'?\",\n",
        "        \"Apakah Anda suka stalking media sosialnya, bahkan sampai tahun 2015?\",\n",
        "        \"Apakah Anda sering tiba-tiba gelisah kalau dia online tapi nggak chat Anda?\",\n",
        "        \"Apakah Anda pernah ketiduran sambil nunggu chat 'selamat malam' dari dia?\",\n",
        "        \"Apakah Anda rela nunggu 'seen' di WhatsApp selama 3 jam, tapi pura-pura nggak peduli?\",\n",
        "        \"Apakah Anda sering nge-replay story-nya walau nggak penting, misalnya 'Wah, langitnya bagus!'?\",\n",
        "        \"Apakah Anda pernah dengar lagunya Andmesh 'Cinta Luar Biasa' sambil baper berat?\",\n",
        "        \"Apakah Anda suka tiba-tiba ngecek ponsel, berharap ada notif dari dia padahal nggak ada?\"\n",
        "    ]\n",
        "\n",
        "    skor = 0\n",
        "    for tanya in random.sample(pertanyaan, 5):  # Ambil 5 pertanyaan secara acak\n",
        "        jawaban = input(warna_pink(tanya) + \" (y/n): \").strip().lower()\n",
        "        if jawaban == 'y':\n",
        "            skor += 1\n",
        "\n",
        "    print(warna_pink(\"\\n💌--- Hasil Diagnosa Cinta ---💌\"))\n",
        "    if skor == 5:\n",
        "        print(warna_pink(\"💘 *Cinta Stadium Akut*! Anda sudah di level Romeo-Juliet, hati-hati overdosis cinta. Tips: Jangan lupa makan dan jangan lupa chat dia duluan!\"))\n",
        "    elif 3 <= skor <= 4:\n",
        "        print(warna_pink(\"💞 *Cinta Ringan Menengah*. Anda sedang mabuk cinta, tapi masih malu-malu kucing. Tips: Jangan cuma stalking, coba kirim chat dulu!\"))\n",
        "    elif 1 <= skor <= 2:\n",
        "        print(warna_pink(\"💕 *Cinta Ringan Sekilas*. Anda mungkin cuma lagi kagum. Tips: Jangan overthinking, tunggu dulu sampai yakin.\"))\n",
        "    else:\n",
        "        print(warna_pink(\"🤷‍♂️ Anda bebas dari penyakit cinta! Tapi hati-hati, cinta bisa menyerang kapan saja. Tips: Siapkan mental, Cupid lagi rajin kerja!\"))\n",
        "\n",
        "    print(warna_pink(\"\\nCatatan: Diagnosa ini hanya untuk lucu-lucuan, ya! Jangan terlalu serius, kecuali cinta Anda memang serius. 😉\"))\n",
        "    print(WATERMARK)\n",
        "\n",
        "def tentang_aplikasi():\n",
        "    print(warna_pink(\"\\n--- Tentang Klinik Cinta ---\"))\n",
        "    print(warna_pink(\"Aplikasi ini diciptakan untuk menghibur Anda yang sedang dilanda asmara, galau, atau hanya sekadar iseng.\"))\n",
        "    print(warna_pink(\"Pesan moral: Jangan terlalu serius memikirkan cinta. Nikmati prosesnya, tapi tetap jaga hati dan kewarasan. 😄\"))\n",
        "    print(WATERMARK)\n",
        "\n",
        "def main():\n",
        "    print(warna_pink(\"💕 Selamat datang di Klinik Cinta, tempat diagnosa hati yang lucu-lucu! 💕\"))\n",
        "    print(WATERMARK)\n",
        "    while True:\n",
        "        tampilkan_menu()\n",
        "        pilihan = input(warna_pink(\"Pilih menu (1/2/3): \")).strip()\n",
        "        if pilihan == '1':\n",
        "            konsultasi_cinta()\n",
        "        elif pilihan == '2':\n",
        "            tentang_aplikasi()\n",
        "        elif pilihan == '3':\n",
        "            print(warna_pink(\"Terima kasih telah berkonsultasi di Klinik Cinta. Ingat, cinta itu lucu kalau dinikmati, tapi pusing kalau dipikirin! 💕\"))\n",
        "            print(WATERMARK)\n",
        "            break\n",
        "        else:\n",
        "            print(warna_pink(\"Pilihan tidak valid. Coba lagi, ya!\"))\n",
        "\n",
        "if __name__ == \"__main__\":\n",
        "    main()\n"
      ]
    }
  ]
}